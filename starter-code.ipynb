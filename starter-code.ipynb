{
 "cells": [
  {
   "cell_type": "markdown",
   "metadata": {
    "focus": false,
    "id": "69b9a648-bcc7-490d-9f9b-ea244d156bd6"
   },
   "source": [
    "# Web Scraping for Reddit & Predicting Comments"
   ]
  },
  {
   "cell_type": "markdown",
   "metadata": {
    "ExecuteTime": {
     "end_time": "2017-10-23T19:28:02.619411Z",
     "start_time": "2017-10-23T19:28:02.600856Z"
    }
   },
   "source": [
    "In this project, we will practice two major skills. Collecting data by scraping a website and then building a binary predictor.\n",
    "\n",
    "As we discussed in week 2, and earlier today, there are two components to starting a data science problem: the problem statement, and acquiring the data.\n",
    "\n",
    "For this article, your problem statement will be: _What characteristics of a post on Reddit contribute most to the overall interaction (as measured by number of comments)?_\n",
    "\n",
    "Your method for acquiring the data will be scraping the 'hot' threads as listed on the [Reddit homepage](https://www.reddit.com/). You'll acquire _AT LEAST FOUR_ pieces of information about each thread:\n",
    "1. The title of the thread\n",
    "2. The subreddit that the thread corresponds to\n",
    "3. The length of time it has been up on Reddit\n",
    "4. The number of comments on the thread\n",
    "\n",
    "Once you've got the data, you will build a classification model that, using Natural Language Processing and any other relevant features, predicts whether or not a given Reddit post will have above or below the _median_ number of comments.\n",
    "\n",
    "**BONUS PROBLEMS**\n",
    "1. If creating a logistic regression, GridSearch Ridge and Lasso for this model and report the best hyperparameter values.\n",
    "1. Scrape the actual text of the threads using Selenium (you'll learn about this in Webscraping II).\n",
    "2. Write the actual article that you're pitching and turn it into a blog post that you host on your personal website."
   ]
  },
  {
   "cell_type": "markdown",
   "metadata": {
    "focus": false,
    "id": "a948d79c-5527-4c0d-ab23-f5d43ce72056"
   },
   "source": [
    "### Scraping Thread Info from Reddit.com"
   ]
  },
  {
   "cell_type": "markdown",
   "metadata": {},
   "source": [
    "#### Set up a request (using requests) to the URL below. Use BeautifulSoup to parse the page and extract all results"
   ]
  },
  {
   "cell_type": "code",
   "execution_count": 2,
   "metadata": {
    "collapsed": true
   },
   "outputs": [],
   "source": [
    "import requests\n",
    "from bs4 import BeautifulSoup\n",
    "import numpy as np\n",
    "from sklearn.decomposition import LatentDirichletAllocation, TruncatedSVD\n",
    "from sklearn.ensemble import RandomForestClassifier, AdaBoostClassifier\n",
    "from sklearn.feature_extraction.text import CountVectorizer, TfidfVectorizer\n",
    "from sklearn.neural_network import MLPClassifier\n",
    "from sklearn.metrics import accuracy_score, confusion_matrix, classification_report\n",
    "from sklearn.model_selection import train_test_split, GridSearchCV, cross_val_score, cross_validate\n",
    "from sklearn.neighbors import KNeighborsClassifier\n",
    "from sklearn.pipeline import make_union, make_pipeline, Pipeline\n",
    "from sklearn.preprocessing import LabelEncoder\n",
    "from sklearn.svm import SVC\n",
    "from sklearn import metrics\n",
    "import matplotlib.pyplot as plt\n",
    "import pandas as pd\n",
    "import seaborn as sns\n",
    "\n",
    "%matplotlib inline"
   ]
  },
  {
   "cell_type": "code",
   "execution_count": 158,
   "metadata": {
    "collapsed": true
   },
   "outputs": [],
   "source": [
    "url = \"http://www.reddit.com/\""
   ]
  },
  {
   "cell_type": "code",
   "execution_count": 159,
   "metadata": {},
   "outputs": [
    {
     "name": "stdout",
     "output_type": "stream",
     "text": [
      "200\n"
     ]
    }
   ],
   "source": [
    "## Establishing the connection to the web page:\n",
    "response = requests.get(url, headers={'User-Agent':'InternetResearchAgency'})\n",
    "\n",
    "print(response.status_code)\n",
    "\n",
    "# Pull the HTML string out of requests and convert it to a Python string.\n",
    "html = response.text\n",
    "\n",
    "#html"
   ]
  },
  {
   "cell_type": "code",
   "execution_count": 160,
   "metadata": {
    "collapsed": true
   },
   "outputs": [],
   "source": [
    "soup = BeautifulSoup(html, 'lxml')\n",
    "#soup"
   ]
  },
  {
   "cell_type": "markdown",
   "metadata": {},
   "source": [
    "While this has some more verbose elements removed, we can see that there is some structure to the above:\n",
    "- The thread title is within an `<a>` tag with the attribute `data-event-action=\"title\"`.\n",
    "- The time since the thread was created is within a `<time>` tag with attribute `class=\"live-timestamp\"`.\n",
    "- The subreddit is within an `<a>` tag with the attribute `class=\"subreddit hover may-blank\"`.\n",
    "- The number of comments is within an `<a>` tag with the attribute data-event-action=\"comments\"`."
   ]
  },
  {
   "cell_type": "markdown",
   "metadata": {},
   "source": [
    "## Write 4 functions to extract these items (one function for each): title, time, subreddit, and number of comments.¶\n",
    "Example\n",
    "```python\n",
    "def extract_title_from_result(result):\n",
    "    return result.find ...\n",
    "```\n",
    "\n",
    "##### - Make sure these functions are robust and can handle cases where the data/field may not be available.\n",
    ">- Remember to check if a field is empty or None for attempting to call methods on it\n",
    ">- Remember to use try/except if you anticipate errors.\n",
    "\n",
    "- **Test** the functions on the results above and simple examples"
   ]
  },
  {
   "cell_type": "code",
   "execution_count": 3,
   "metadata": {
    "collapsed": true
   },
   "outputs": [],
   "source": [
    "\n",
    "def extract_title_from_result(soup):\n",
    "    title_list = []\n",
    "    for each in soup.find_all('a', {'class':'title'}):\n",
    "        title_list.append((each.text))\n",
    "    return title_list\n",
    "\n",
    "#extract_title_from_result(soup)\n",
    "    \n"
   ]
  },
  {
   "cell_type": "code",
   "execution_count": 4,
   "metadata": {
    "collapsed": true,
    "scrolled": true
   },
   "outputs": [],
   "source": [
    "def extract_subreddit_from_result(soup):\n",
    "    subreddit_list =[]\n",
    "    for each in soup.find_all('a', {'class':'subreddit'}):\n",
    "        subreddit_list.append((each.text))\n",
    "    return(subreddit_list)\n",
    "\n",
    "#extract_subreddit_from_result(soup)"
   ]
  },
  {
   "cell_type": "code",
   "execution_count": 5,
   "metadata": {
    "collapsed": true,
    "scrolled": true
   },
   "outputs": [],
   "source": [
    "def extract_age_from_result(soup):\n",
    "    age_list = []\n",
    "    for each in soup.find_all('time', {'class':'live-timestamp'}):\n",
    "        age_list.append((each.text))\n",
    "    return(age_list)\n",
    "\n",
    "#extract_age_from_result(soup)"
   ]
  },
  {
   "cell_type": "code",
   "execution_count": 6,
   "metadata": {
    "collapsed": true,
    "scrolled": true
   },
   "outputs": [],
   "source": [
    "def extract_numcom_from_result(soup):\n",
    "    comment_list = []\n",
    "    for each in soup.find_all('a', attrs={'class':'bylink comments may-blank'}):\n",
    "        comment_list.append((each.text.split()[0]))\n",
    "    return(comment_list)\n",
    "\n",
    "#extract_numcom_from_result(soup)"
   ]
  },
  {
   "cell_type": "markdown",
   "metadata": {
    "focus": true,
    "id": "7203e0c9-e437-4802-a6ad-7dc464f94436"
   },
   "source": [
    "Now, to scale up our scraping, we need to accumulate more results.\n",
    "\n",
    "First, look at the source of a Reddit.com page: (https://www.reddit.com/).\n",
    "Try manually changing the page by clicking the 'next' button on the bottom. Look at how the url changes.\n",
    "\n",
    "After leaving the Reddit homepage, the URLs should look something like this:\n",
    "```\n",
    "https://www.reddit.com/?count=25&after=t3_787ptc\n",
    "```\n",
    "\n",
    "The URL here has two query parameters\n",
    "- count is the result number that the page starts with\n",
    "- after is the unique id of the last result on the _previous_ page\n",
    "\n",
    "In order to scrape lots of pages from Reddit, we'll have to change these parameters every time we make a new request so that we're not just scraping the same page over and over again. Incrementing the count by 25 every time will be easy, but the bizarre code after `after` is a bit trickier."
   ]
  },
  {
   "cell_type": "markdown",
   "metadata": {},
   "source": [
    "To start off, let's look at a block of HTML from a Reddit page to see how we might solve this problem:\n",
    "```html\n",
    "<div class=\" thing id-t3_788tye odd gilded link \" data-author=\"LordSneaux\" data-author-fullname=\"t2_j3pty\" data-comments-count=\"1548\" data-context=\"listing\" data-domain=\"v.redd.it\" data-fullname=\"t3_788tye\" data-kind=\"video\" data-num-crossposts=\"0\" data-permalink=\"/r/funny/comments/788tye/not_all_heroes_wear_capes/\" data-rank=\"25\" data-score=\"51468\" data-subreddit=\"funny\" data-subreddit-fullname=\"t5_2qh33\" data-timestamp=\"1508775581000\" data-type=\"link\" data-url=\"https://v.redd.it/ush0rh2tultz\" data-whitelist-status=\"all_ads\" id=\"thing_t3_788tye\" onclick=\"click_thing(this)\">\n",
    "      <p class=\"parent\">\n",
    "      </p>\n",
    "      <span class=\"rank\">\n",
    "       25\n",
    "      </span>\n",
    "      <div class=\"midcol unvoted\">\n",
    "       <div aria-label=\"upvote\" class=\"arrow up login-required access-required\" data-event-action=\"upvote\" role=\"button\" tabindex=\"0\">\n",
    "       </div>\n",
    "       <div class=\"score dislikes\" title=\"53288\">\n",
    "        53.3k\n",
    "       </div>\n",
    "       <div class=\"score unvoted\" title=\"53289\">\n",
    "        53.3k\n",
    "       </div>\n",
    "       <div class=\"score likes\" title=\"53290\">\n",
    "        53.3k\n",
    "       </div>\n",
    "       <div aria-label=\"downvote\" class=\"arrow down login-required access-required\" data-event-action=\"downvote\" role=\"button\" tabindex=\"0\">\n",
    "       </div>\n",
    "      </div>\n",
    "```\n",
    "\n",
    "Notice that within the `div` tag there is an attribute called `id` and it is set to `\"thing_t3_788tye\"`. By finding the last ID on your scraped page, you can tell your _next_ request where to start (pass everything after \"thing_\").\n",
    "\n",
    "For more info on this, you can take a look at the [Reddit API docs](https://github.com/reddit/reddit/wiki/JSON)"
   ]
  },
  {
   "cell_type": "markdown",
   "metadata": {},
   "source": [
    "## Write one more function that finds the last `id` on the page, and stores it."
   ]
  },
  {
   "cell_type": "code",
   "execution_count": 7,
   "metadata": {
    "collapsed": true
   },
   "outputs": [],
   "source": [
    "def last_id(soup):\n",
    "    all_div = soup.find_all('div', attrs={'data-type': 'link'})\n",
    "    return all_div[-1]['data-fullname']\n",
    "\n",
    "#last_id(soup)"
   ]
  },
  {
   "cell_type": "markdown",
   "metadata": {},
   "source": [
    "## (Optional) Collect more information\n",
    "\n",
    "While we only require you to collect four features, there may be other info that you can find on the results page that might be useful. Feel free to write more functions so that you have more interesting and useful data."
   ]
  },
  {
   "cell_type": "code",
   "execution_count": null,
   "metadata": {
    "collapsed": true
   },
   "outputs": [],
   "source": [
    "## YOUR CODE HERE"
   ]
  },
  {
   "cell_type": "markdown",
   "metadata": {},
   "source": [
    "## Now, let's put it all together.\n",
    "\n",
    "Use the functions you wrote above to parse out the 4 fields - title, time, subreddit, and number of comments. Create a dataframe from the results with those 4 columns."
   ]
  },
  {
   "cell_type": "code",
   "execution_count": 8,
   "metadata": {
    "collapsed": true
   },
   "outputs": [],
   "source": [
    "import time"
   ]
  },
  {
   "cell_type": "code",
   "execution_count": 24,
   "metadata": {
    "collapsed": true
   },
   "outputs": [
    {
     "name": "stdout",
     "output_type": "stream",
     "text": [
      "0\n",
      "25\n",
      "50\n",
      "75\n",
      "100\n",
      "125\n",
      "150\n",
      "175\n",
      "200\n",
      "225\n",
      "250\n",
      "275\n",
      "300\n",
      "325\n",
      "350\n",
      "375\n",
      "400\n",
      "425\n",
      "450\n",
      "475\n",
      "500\n",
      "525\n",
      "550\n",
      "575\n",
      "600\n",
      "625\n",
      "650\n",
      "675\n",
      "700\n",
      "725\n",
      "750\n",
      "775\n",
      "800\n",
      "825\n",
      "850\n",
      "875\n",
      "900\n",
      "925\n",
      "950\n",
      "975\n",
      "1000\n",
      "1025\n",
      "1050\n",
      "1075\n",
      "1100\n",
      "1125\n",
      "1150\n",
      "1175\n",
      "1200\n",
      "1225\n",
      "1250\n",
      "1275\n",
      "1300\n",
      "1325\n",
      "1350\n",
      "1375\n",
      "1400\n",
      "1425\n",
      "1450\n",
      "1475\n",
      "1500\n",
      "1525\n",
      "1550\n",
      "1575\n",
      "1600\n",
      "1625\n",
      "1650\n",
      "1675\n",
      "1700\n",
      "1725\n",
      "1750\n",
      "1775\n",
      "1800\n",
      "1825\n",
      "1850\n",
      "1875\n",
      "1900\n",
      "1925\n",
      "1950\n",
      "1975\n"
     ]
    }
   ],
   "source": [
    "url_template = \"http://www.reddit.com/?count={}&after={}\"\n",
    "max_results = 2000 # Set this to a high-value (5000) to generate more results. \n",
    "# Crawling more results, will also take much longer. \n",
    "# First test your code on a small number of results and then expand.\n",
    "soup_list = []\n",
    "\n",
    "id_list = [0]\n",
    "\n",
    "for start in range(0, max_results, 25):\n",
    "    res = requests.get(\"http://www.reddit.com/?count=\"+str(start)+\"&after=\"+str(id_list[-1]), \n",
    "                       headers={'User-Agent':'InternetResearchAgency'})\n",
    "    #print(f'(http://www.reddit.com/?count=+{str(start)}+&after=+{str(id_list[-1])})')\n",
    "    print(start)\n",
    "    #print(id_list[-1])\n",
    "    soup = BeautifulSoup(res.content, 'lxml')\n",
    "    soup_list.append(soup)\n",
    "    id_list.append(last_id(soup))\n",
    "    if start%500 == 0:\n",
    "        time.sleep(90)"
   ]
  },
  {
   "cell_type": "code",
   "execution_count": 52,
   "metadata": {},
   "outputs": [
    {
     "data": {
      "text/plain": [
       "80"
      ]
     },
     "execution_count": 52,
     "metadata": {},
     "output_type": "execute_result"
    }
   ],
   "source": [
    "len(soup_list)"
   ]
  },
  {
   "cell_type": "code",
   "execution_count": 53,
   "metadata": {
    "collapsed": true,
    "scrolled": true
   },
   "outputs": [],
   "source": [
    "# Extracting the titles from each page and appending it to a list\n",
    "title_list=[]\n",
    "\n",
    "for each in soup_list:\n",
    "    title_list.append(extract_title_from_result(each))\n",
    "\n",
    "#title_list"
   ]
  },
  {
   "cell_type": "code",
   "execution_count": 54,
   "metadata": {
    "collapsed": true,
    "scrolled": true
   },
   "outputs": [],
   "source": [
    "# Extracting the number of comments from each page and appending it to a list\n",
    "comment_list = []\n",
    "\n",
    "for each in soup_list:\n",
    "    comment_list.append(extract_numcom_from_result(each))\n",
    "    \n",
    "    \n",
    "#comment_list"
   ]
  },
  {
   "cell_type": "code",
   "execution_count": 55,
   "metadata": {
    "collapsed": true
   },
   "outputs": [],
   "source": [
    "# Extracting the subreddits from each page and appending it to a list\n",
    "subreddit_list=[]\n",
    "\n",
    "for each in soup_list:\n",
    "    subreddit_list.append(extract_subreddit_from_result(each))\n",
    "    \n",
    "#subreddit_list"
   ]
  },
  {
   "cell_type": "code",
   "execution_count": 56,
   "metadata": {
    "collapsed": true
   },
   "outputs": [],
   "source": [
    "# Extracting the age of the posts on each page and appending them to a list\n",
    "age_list=[]\n",
    "\n",
    "for each in soup_list:\n",
    "    age_list.append(extract_age_from_result(each))\n",
    "\n",
    "#age_list"
   ]
  },
  {
   "cell_type": "code",
   "execution_count": 57,
   "metadata": {},
   "outputs": [
    {
     "data": {
      "text/plain": [
       "(80, 80, 80, 80)"
      ]
     },
     "execution_count": 57,
     "metadata": {},
     "output_type": "execute_result"
    }
   ],
   "source": [
    "len(title_list), len(age_list), len(comment_list), len(subreddit_list)"
   ]
  },
  {
   "cell_type": "code",
   "execution_count": 58,
   "metadata": {
    "collapsed": true
   },
   "outputs": [],
   "source": [
    "# Taking a list of lists and converting it to a flat out list\n",
    "\n",
    "title_list = [item for sublist in title_list for item in sublist]\n",
    "\n",
    "age_list = [item for sublist in age_list for item in sublist]\n",
    "\n",
    "comment_list = [item for sublist in comment_list for item in sublist]\n",
    "\n",
    "subreddit_list = [item for sublist in subreddit_list for item in sublist]"
   ]
  },
  {
   "cell_type": "code",
   "execution_count": 59,
   "metadata": {},
   "outputs": [
    {
     "data": {
      "text/plain": [
       "(1980, 1980, 1977, 1980)"
      ]
     },
     "execution_count": 59,
     "metadata": {},
     "output_type": "execute_result"
    }
   ],
   "source": [
    "len(title_list), len(age_list), len(comment_list), len(subreddit_list)"
   ]
  },
  {
   "cell_type": "code",
   "execution_count": 375,
   "metadata": {
    "collapsed": true
   },
   "outputs": [],
   "source": [
    "# Creating a dataframe from our 4 lists\n",
    "reddit_df = pd.DataFrame({'title':title_list, \n",
    "              'age':age_list,\n",
    "              'num_com':comment_list, \n",
    "              'subreddit':subreddit_list})\n",
    "             "
   ]
  },
  {
   "cell_type": "code",
   "execution_count": null,
   "metadata": {
    "collapsed": true,
    "scrolled": false
   },
   "outputs": [],
   "source": [
    "reddit_df.head()"
   ]
  },
  {
   "cell_type": "code",
   "execution_count": 376,
   "metadata": {},
   "outputs": [
    {
     "data": {
      "text/plain": [
       "(2500, 4)"
      ]
     },
     "execution_count": 376,
     "metadata": {},
     "output_type": "execute_result"
    }
   ],
   "source": [
    "reddit_df.shape"
   ]
  },
  {
   "cell_type": "markdown",
   "metadata": {
    "focus": false,
    "id": "43e71edd-210e-42b1-9336-70a931f048af"
   },
   "source": [
    "### Save your results as a CSV\n",
    "You may do this regularly while scraping data as well, so that if your scraper stops of your computer crashes, you don't lose all your data."
   ]
  },
  {
   "cell_type": "code",
   "execution_count": 337,
   "metadata": {
    "collapsed": true,
    "focus": false,
    "id": "783fd153-28ac-47ab-bfca-27e7c1de95b4"
   },
   "outputs": [],
   "source": [
    "# Export to csv\n",
    "# reddit_df.to_csv(path_or_buf='reddit_data2.csv')"
   ]
  },
  {
   "cell_type": "markdown",
   "metadata": {
    "focus": false,
    "id": "04563b69-f7b6-466f-9d65-fc62c9ddee6a"
   },
   "source": [
    "## Predicting comments using Random Forests + Another Classifier"
   ]
  },
  {
   "cell_type": "markdown",
   "metadata": {
    "focus": false,
    "id": "243e949e-2742-40af-872e-fec475fd306c"
   },
   "source": [
    "#### Load in the the data of scraped results"
   ]
  },
  {
   "cell_type": "code",
   "execution_count": 53,
   "metadata": {
    "collapsed": true
   },
   "outputs": [],
   "source": [
    "reddit_df = pd.read_csv('./reddit_data.csv')"
   ]
  },
  {
   "cell_type": "code",
   "execution_count": 54,
   "metadata": {
    "collapsed": true,
    "focus": false,
    "id": "588f9845-6143-4bcc-bfd1-85d45b79303d",
    "scrolled": true
   },
   "outputs": [],
   "source": [
    "# converting the number of comments to integer\n",
    "reddit_df['num_com'] = reddit_df['num_com'].astype(int)"
   ]
  },
  {
   "cell_type": "code",
   "execution_count": 55,
   "metadata": {
    "collapsed": true
   },
   "outputs": [],
   "source": [
    "reddit_df.drop('Unnamed: 0',axis=1, inplace=True)"
   ]
  },
  {
   "cell_type": "code",
   "execution_count": 56,
   "metadata": {},
   "outputs": [
    {
     "name": "stdout",
     "output_type": "stream",
     "text": [
      "<class 'pandas.core.frame.DataFrame'>\n",
      "RangeIndex: 2500 entries, 0 to 2499\n",
      "Data columns (total 4 columns):\n",
      "age          2500 non-null object\n",
      "num_com      2500 non-null int64\n",
      "subreddit    2500 non-null object\n",
      "title        2500 non-null object\n",
      "dtypes: int64(1), object(3)\n",
      "memory usage: 78.2+ KB\n"
     ]
    }
   ],
   "source": [
    "reddit_df.info()"
   ]
  },
  {
   "cell_type": "code",
   "execution_count": 57,
   "metadata": {},
   "outputs": [
    {
     "data": {
      "text/plain": [
       "CGI of 1920s New York in The Great Gatsby                                                                                                                                                                                                                                                                   11\n",
       "Anime_irl                                                                                                                                                                                                                                                                                                   10\n",
       "\"Don't pre-order games on eShop\" - Norwegian Consumer Council formally asks Nintendo to explain their breach of the EU Consumer Rights Directive. Nintendos online store is the only gaming store that doesn't allow consumers to cancel a pre-order, which is illegal.                                     10\n",
       "This handicap toilet in a 4 star hotel.                                                                                                                                                                                                                                                                     10\n",
       "That looks like it should hurt....                                                                                                                                                                                                                                                                           9\n",
       "Anon is American                                                                                                                                                                                                                                                                                             9\n",
       "The Assassination of Julius Caesar by Brutus- 44 BCE                                                                                                                                                                                                                                                         9\n",
       "Roses are red, I play on the grass,                                                                                                                                                                                                                                                                          9\n",
       "Building Improvements with 3.0.0                                                                                                                                                                                                                                                                             8\n",
       "She mastered the art of the bottle                                                                                                                                                                                                                                                                           8\n",
       "Trucker forgot he was driving a tractor trailer this morning while going through the bridge toll.                                                                                                                                                                                                            8\n",
       "Cupcake life hack                                                                                                                                                                                                                                                                                            8\n",
       "Whats something you think most people \"waste\" money on?                                                                                                                                                                                                                                                      8\n",
       "this drawing has taken 38 hours. I hope you like it!                                                                                                                                                                                                                                                         8\n",
       "[I ate] extra fluffy Japanese pancakes.                                                                                                                                                                                                                                                                      8\n",
       "Dog Thinks                                                                                                                                                                                                                                                                                                   8\n",
       "5th grader saves choking classmate. He knew what to do by remembering a documentary he watched years ago. At first his parents said they thought he meant he saved a life when playing a video game.                                                                                                         8\n",
       "ITAP of my dog getting out of the ocean                                                                                                                                                                                                                                                                      8\n",
       "Sasook and Nardo                                                                                                                                                                                                                                                                                             8\n",
       "Happy Birthday, Anthony Daniels!                                                                                                                                                                                                                                                                             8\n",
       "Bankers vs Crypto in 2018                                                                                                                                                                                                                                                                                    8\n",
       "Just a delicate little shift                                                                                                                                                                                                                                                                                 8\n",
       "WOW!                                                                                                                                                                                                                                                                                                         8\n",
       "Donna's Contribution to Pawnee's Time Capsule                                                                                                                                                                                                                                                                8\n",
       "[Off-Site] - A little off topic, but what was the strangest way you explained someone a maths problem?                                                                                                                                                                                                       8\n",
       "[Image] Sucking at something is the first step                                                                                                                                                                                                                                                               8\n",
       "[WP] Periodically you find strange little tokens around town that look like your cartoon drawings of you. You've collected several of them over the years, and kept them with you. Today, you died, and you got up like nothing happened. One of the tokens vanishes.                                        8\n",
       "Grizzly bear chases wolf off a carcass                                                                                                                                                                                                                                                                       8\n",
       "Ajit Pai’s Plan Will Take Broadband Away From Poor People                                                                                                                                                                                                                                                    8\n",
       "Indeed it is                                                                                                                                                                                                                                                                                                 8\n",
       "                                                                                                                                                                                                                                                                                                            ..\n",
       "[OC] When Deathworlders Visit, Part 3                                                                                                                                                                                                                                                                        1\n",
       "The fact that the two small holes that supply our brain with oxygen also clog themselves with snot and boogers seems like a serious design flaw.                                                                                                                                                             1\n",
       "Rappers for prison abolition                                                                                                                                                                                                                                                                                 1\n",
       "Feel good story - Jury awards man $8.4 million for false rape accusation                                                                                                                                                                                                                                     1\n",
       "Sleepygoosebirb                                                                                                                                                                                                                                                                                              1\n",
       "Make this an emote                                                                                                                                                                                                                                                                                           1\n",
       "Shaggy at his best.                                                                                                                                                                                                                                                                                          1\n",
       "Dog owners showed a higher level of attachment to their dogs than cat owners to their cats, while female owners showed a higher level of attachment to their pets than males, with the higher the level of attachment, the stronger the attribution of emotions to the pets, finds a new Japanese study.     1\n",
       "Can't even make coffee without the fear of being attacked from above                                                                                                                                                                                                                                         1\n",
       "Frühstück ist die wichtigste Mahlzeit                                                                                                                                                                                                                                                                        1\n",
       "Okokok, enough with drunk priests and ponies, how many upvotes can the lord of sliver skalitz get?                                                                                                                                                                                                           1\n",
       "Not what I was expecting when I ordered cheese on my hashbrowns.                                                                                                                                                                                                                                             1\n",
       "Lions offense is being merged into the Erhardt-Perkins system. Air Coryell has left the building.                                                                                                                                                                                                            1\n",
       "The way this keyboard sinks right in                                                                                                                                                                                                                                                                         1\n",
       "High quality mlem                                                                                                                                                                                                                                                                                            1\n",
       "Comprehensive look at just how good we've had it these past 17 years (OC)                                                                                                                                                                                                                                    1\n",
       "When you see a cringey right-wing meme and decide to fix it                                                                                                                                                                                                                                                  1\n",
       "HMB while I jump onto this crate                                                                                                                                                                                                                                                                             1\n",
       "Sandy Springs Mayor Complains Proposed Bill Would Essentially Kill Wood Frame Construction Restriction for New Apartment Construction                                                                                                                                                                        1\n",
       "Wakanda knuckles                                                                                                                                                                                                                                                                                             1\n",
       "The worst feel.                                                                                                                                                                                                                                                                                              1\n",
       ">when jay interrupts you                                                                                                                                                                                                                                                                                     1\n",
       "We’re welcoming a new floof into the family, Cliff!                                                                                                                                                                                                                                                          1\n",
       "Literally performs worse than pubg                                                                                                                                                                                                                                                                           1\n",
       "MRW my wife asks what I've been doing on the computer all night                                                                                                                                                                                                                                              1\n",
       "The army rebels                                                                                                                                                                                                                                                                                              1\n",
       "Mina svenska \"tapas\". Ett smörgåsbord i miniformat?                                                                                                                                                                                                                                                          1\n",
       "My dad, 1993, rocking a shiner he got during an amateur basketball game the day before I was born.                                                                                                                                                                                                           1\n",
       "Graphics are deteriorating over time, help!                                                                                                                                                                                                                                                                  1\n",
       "My local supermarket stocks the Raspberry Pi magazines in the cooking section                                                                                                                                                                                                                                1\n",
       "Name: title, Length: 620, dtype: int64"
      ]
     },
     "execution_count": 57,
     "metadata": {},
     "output_type": "execute_result"
    }
   ],
   "source": [
    "reddit_df.title.value_counts()"
   ]
  },
  {
   "cell_type": "code",
   "execution_count": 58,
   "metadata": {
    "collapsed": true
   },
   "outputs": [],
   "source": [
    "# dropping duplicate title posts unless they are in different subreddits\n",
    "reddit_df.drop_duplicates(subset=['title', 'subreddit'], inplace=True)"
   ]
  },
  {
   "cell_type": "code",
   "execution_count": 59,
   "metadata": {},
   "outputs": [
    {
     "data": {
      "text/plain": [
       "(626, 4)"
      ]
     },
     "execution_count": 59,
     "metadata": {},
     "output_type": "execute_result"
    }
   ],
   "source": [
    "reddit_df.shape"
   ]
  },
  {
   "cell_type": "code",
   "execution_count": 60,
   "metadata": {},
   "outputs": [
    {
     "data": {
      "text/html": [
       "<div>\n",
       "<style>\n",
       "    .dataframe thead tr:only-child th {\n",
       "        text-align: right;\n",
       "    }\n",
       "\n",
       "    .dataframe thead th {\n",
       "        text-align: left;\n",
       "    }\n",
       "\n",
       "    .dataframe tbody tr th {\n",
       "        vertical-align: top;\n",
       "    }\n",
       "</style>\n",
       "<table border=\"1\" class=\"dataframe\">\n",
       "  <thead>\n",
       "    <tr style=\"text-align: right;\">\n",
       "      <th></th>\n",
       "      <th>age</th>\n",
       "      <th>num_com</th>\n",
       "      <th>subreddit</th>\n",
       "      <th>title</th>\n",
       "    </tr>\n",
       "  </thead>\n",
       "  <tbody>\n",
       "    <tr>\n",
       "      <th>2254</th>\n",
       "      <td>38 minutes ago</td>\n",
       "      <td>50</td>\n",
       "      <td>r/PoliticalHumor</td>\n",
       "      <td>When you see a cringey right-wing meme and dec...</td>\n",
       "    </tr>\n",
       "  </tbody>\n",
       "</table>\n",
       "</div>"
      ],
      "text/plain": [
       "                 age  num_com         subreddit  \\\n",
       "2254  38 minutes ago       50  r/PoliticalHumor   \n",
       "\n",
       "                                                  title  \n",
       "2254  When you see a cringey right-wing meme and dec...  "
      ]
     },
     "execution_count": 60,
     "metadata": {},
     "output_type": "execute_result"
    }
   ],
   "source": [
    "# Looking for a difference in unit in time\n",
    "reddit_df[reddit_df['age'].str.contains(\"minute\")]"
   ]
  },
  {
   "cell_type": "code",
   "execution_count": 61,
   "metadata": {},
   "outputs": [
    {
     "name": "stderr",
     "output_type": "stream",
     "text": [
      "/Users/reef/anaconda3/lib/python3.6/site-packages/ipykernel_launcher.py:2: SettingWithCopyWarning: \n",
      "A value is trying to be set on a copy of a slice from a DataFrame\n",
      "\n",
      "See the caveats in the documentation: http://pandas.pydata.org/pandas-docs/stable/indexing.html#indexing-view-versus-copy\n",
      "  \n"
     ]
    }
   ],
   "source": [
    "# Rounding up from 38 minutes to one hour\n",
    "reddit_df['age'][2254] = '1 hour ago'"
   ]
  },
  {
   "cell_type": "code",
   "execution_count": 62,
   "metadata": {
    "collapsed": true
   },
   "outputs": [],
   "source": [
    "# dropping the string segment \"Hour/Hours ago\" from our age column\n",
    "reddit_df['age'] = reddit_df['age'].str.rstrip(\" hour%s% ago\")"
   ]
  },
  {
   "cell_type": "code",
   "execution_count": 63,
   "metadata": {
    "collapsed": true
   },
   "outputs": [],
   "source": [
    "# converting age value to ingeters\n",
    "reddit_df['age'] = reddit_df['age'].astype(int)"
   ]
  },
  {
   "cell_type": "code",
   "execution_count": 64,
   "metadata": {},
   "outputs": [
    {
     "name": "stdout",
     "output_type": "stream",
     "text": [
      "<class 'pandas.core.frame.DataFrame'>\n",
      "Int64Index: 626 entries, 0 to 2349\n",
      "Data columns (total 4 columns):\n",
      "age          626 non-null int64\n",
      "num_com      626 non-null int64\n",
      "subreddit    626 non-null object\n",
      "title        626 non-null object\n",
      "dtypes: int64(2), object(2)\n",
      "memory usage: 44.5+ KB\n"
     ]
    }
   ],
   "source": [
    "reddit_df.info()"
   ]
  },
  {
   "cell_type": "markdown",
   "metadata": {
    "focus": false,
    "id": "c7631f51-07f2-4c79-a093-3e9bc7849a48"
   },
   "source": [
    "#### We want to predict a binary variable - whether the number of comments was low or high. Compute the median number of comments and create a new binary variable that is true when the number of comments is high (above the median)\n",
    "\n",
    "We could also perform Linear Regression (or any regression) to predict the number of comments here. Instead, we are going to convert this into a _binary_ classification problem, by predicting two classes, HIGH vs LOW number of comments.\n",
    "\n",
    "While performing regression may be better, performing classification may help remove some of the noise of the extremely popular threads. We don't _have_ to choose the `median` as the splitting point - we could also split on the 75th percentile or any other reasonable breaking point.\n",
    "\n",
    "In fact, the ideal scenario may be to predict many levels of comment numbers. "
   ]
  },
  {
   "cell_type": "code",
   "execution_count": 65,
   "metadata": {
    "focus": false,
    "id": "c20d2498-151c-44c3-a453-3a333c79a0ac"
   },
   "outputs": [
    {
     "data": {
      "text/plain": [
       "62.0"
      ]
     },
     "execution_count": 65,
     "metadata": {},
     "output_type": "execute_result"
    }
   ],
   "source": [
    "## median of number of comments\n",
    "np.median(reddit_df['num_com'])"
   ]
  },
  {
   "cell_type": "code",
   "execution_count": 141,
   "metadata": {},
   "outputs": [
    {
     "data": {
      "image/png": "[encoded data removed]",
      "text/plain": [
       "<matplotlib.figure.Figure at 0x113e10828>"
      ]
     },
     "metadata": {},
     "output_type": "display_data"
    }
   ],
   "source": [
    "# distribution of comments is heavily right-skewed\n",
    "reddit_df['num_com'].hist();\n",
    "plt.title(\"Distribution of comment counts\");"
   ]
  },
  {
   "cell_type": "code",
   "execution_count": 67,
   "metadata": {
    "collapsed": true
   },
   "outputs": [],
   "source": [
    "# binary conversion of \"does this post have high comments?\"\n",
    "y = []\n",
    "for each in reddit_df['num_com']:\n",
    "    if each <= 62:\n",
    "        y.append(0)\n",
    "    else:\n",
    "        y.append(1)\n",
    "        \n",
    "reddit_df['high_com'] = y"
   ]
  },
  {
   "cell_type": "code",
   "execution_count": 68,
   "metadata": {},
   "outputs": [
    {
     "data": {
      "text/html": [
       "<div>\n",
       "<style>\n",
       "    .dataframe thead tr:only-child th {\n",
       "        text-align: right;\n",
       "    }\n",
       "\n",
       "    .dataframe thead th {\n",
       "        text-align: left;\n",
       "    }\n",
       "\n",
       "    .dataframe tbody tr th {\n",
       "        vertical-align: top;\n",
       "    }\n",
       "</style>\n",
       "<table border=\"1\" class=\"dataframe\">\n",
       "  <thead>\n",
       "    <tr style=\"text-align: right;\">\n",
       "      <th></th>\n",
       "      <th>age</th>\n",
       "      <th>num_com</th>\n",
       "      <th>subreddit</th>\n",
       "      <th>title</th>\n",
       "      <th>high_com</th>\n",
       "    </tr>\n",
       "  </thead>\n",
       "  <tbody>\n",
       "    <tr>\n",
       "      <th>0</th>\n",
       "      <td>3</td>\n",
       "      <td>461</td>\n",
       "      <td>r/LifeProTips</td>\n",
       "      <td>LPT: Keep a separate master resume with ALL pr...</td>\n",
       "      <td>1</td>\n",
       "    </tr>\n",
       "    <tr>\n",
       "      <th>1</th>\n",
       "      <td>3</td>\n",
       "      <td>345</td>\n",
       "      <td>r/web_design</td>\n",
       "      <td>Animated login avatar</td>\n",
       "      <td>1</td>\n",
       "    </tr>\n",
       "    <tr>\n",
       "      <th>2</th>\n",
       "      <td>4</td>\n",
       "      <td>1331</td>\n",
       "      <td>r/woahdude</td>\n",
       "      <td>First image ever taken of the Hydrogen Atom</td>\n",
       "      <td>1</td>\n",
       "    </tr>\n",
       "    <tr>\n",
       "      <th>3</th>\n",
       "      <td>4</td>\n",
       "      <td>700</td>\n",
       "      <td>r/funny</td>\n",
       "      <td>Not a method actor</td>\n",
       "      <td>1</td>\n",
       "    </tr>\n",
       "    <tr>\n",
       "      <th>4</th>\n",
       "      <td>5</td>\n",
       "      <td>386</td>\n",
       "      <td>r/MovieDetails</td>\n",
       "      <td>At the end of Ferris Bueller’s Day Off, he app...</td>\n",
       "      <td>1</td>\n",
       "    </tr>\n",
       "  </tbody>\n",
       "</table>\n",
       "</div>"
      ],
      "text/plain": [
       "   age  num_com       subreddit  \\\n",
       "0    3      461   r/LifeProTips   \n",
       "1    3      345    r/web_design   \n",
       "2    4     1331      r/woahdude   \n",
       "3    4      700         r/funny   \n",
       "4    5      386  r/MovieDetails   \n",
       "\n",
       "                                               title  high_com  \n",
       "0  LPT: Keep a separate master resume with ALL pr...         1  \n",
       "1                              Animated login avatar         1  \n",
       "2        First image ever taken of the Hydrogen Atom         1  \n",
       "3                                 Not a method actor         1  \n",
       "4  At the end of Ferris Bueller’s Day Off, he app...         1  "
      ]
     },
     "execution_count": 68,
     "metadata": {},
     "output_type": "execute_result"
    }
   ],
   "source": [
    "reddit_df.head()"
   ]
  },
  {
   "cell_type": "markdown",
   "metadata": {
    "focus": false,
    "id": "a7afb2c0-d41e-4779-8216-91cd8dd4473f"
   },
   "source": [
    "#### Thought experiment: What is the baseline accuracy for this model?"
   ]
  },
  {
   "cell_type": "code",
   "execution_count": 69,
   "metadata": {
    "focus": false,
    "id": "87a17d3d-b7f4-4747-9f75-f9af1d18a174"
   },
   "outputs": [
    {
     "data": {
      "text/plain": [
       "0    315\n",
       "1    311\n",
       "Name: high_com, dtype: int64"
      ]
     },
     "execution_count": 69,
     "metadata": {},
     "output_type": "execute_result"
    }
   ],
   "source": [
    "## YOUR CODE HERE\n",
    "reddit_df['high_com'].value_counts()"
   ]
  },
  {
   "cell_type": "code",
   "execution_count": 70,
   "metadata": {},
   "outputs": [
    {
     "data": {
      "text/plain": [
       "0.5031948881789138"
      ]
     },
     "execution_count": 70,
     "metadata": {},
     "output_type": "execute_result"
    }
   ],
   "source": [
    "baseline_accuracy = reddit_df['high_com'].value_counts()[0]/len(reddit_df['high_com'])\n",
    "baseline_accuracy"
   ]
  },
  {
   "cell_type": "markdown",
   "metadata": {
    "focus": false,
    "id": "4fb29de2-5b98-474c-a4ad-5170b72b9aea"
   },
   "source": [
    "#### Create a Random Forest model to predict High/Low number of comments using Sklearn. Start by ONLY using the subreddit as a feature. "
   ]
  },
  {
   "cell_type": "code",
   "execution_count": 71,
   "metadata": {
    "collapsed": true,
    "focus": false,
    "id": "ddbc6159-6854-4ca7-857f-bfecdaf6d9c2"
   },
   "outputs": [],
   "source": [
    "## Setting our X and y\n",
    "y = reddit_df['high_com']\n",
    "X = pd.get_dummies(reddit_df['subreddit'])"
   ]
  },
  {
   "cell_type": "code",
   "execution_count": 72,
   "metadata": {
    "collapsed": true
   },
   "outputs": [],
   "source": [
    "# creating our train/test split\n",
    "X_train, X_test, y_train, y_test = train_test_split(X, y, test_size=0.3, random_state=42)"
   ]
  },
  {
   "cell_type": "code",
   "execution_count": 73,
   "metadata": {},
   "outputs": [
    {
     "name": "stdout",
     "output_type": "stream",
     "text": [
      "Baseline: 0.5031948881789138\n",
      "Random Forrest Score: 0.6063829787234043\n",
      "Cross Validation Score: 0.5267461793777583\n"
     ]
    },
    {
     "name": "stderr",
     "output_type": "stream",
     "text": [
      "[Parallel(n_jobs=1)]: Done   5 out of   5 | elapsed:    0.1s finished\n"
     ]
    }
   ],
   "source": [
    "# Random Forest Model\n",
    "\n",
    "rfc_reddit = RandomForestClassifier()\n",
    "rfc_reddit.fit(X_train,y_train)\n",
    "\n",
    "score_rfc_reddit = rfc_reddit.score(X_test,y_test)\n",
    "\n",
    "# using crossvalidation to check how accurate the model is\n",
    "cv_reddit = cross_val_score(rfc_reddit, X_test, y_test, cv=5, verbose=1).mean()\n",
    "\n",
    "print('Baseline:', baseline_accuracy)\n",
    "print('Random Forrest Score:', score_rfc_reddit)\n",
    "print('Cross Validation Score:', cv_reddit)"
   ]
  },
  {
   "cell_type": "code",
   "execution_count": 74,
   "metadata": {
    "scrolled": true
   },
   "outputs": [
    {
     "name": "stdout",
     "output_type": "stream",
     "text": [
      "Fitting 5 folds for each of 40 candidates, totalling 200 fits\n",
      "GridSearch score: 0.5981735159817352\n",
      "Best Parameters: {'criterion': 'entropy', 'max_depth': None, 'n_estimators': 10}\n"
     ]
    },
    {
     "name": "stderr",
     "output_type": "stream",
     "text": [
      "[Parallel(n_jobs=1)]: Done 200 out of 200 | elapsed:    5.7s finished\n"
     ]
    }
   ],
   "source": [
    "# performing a Gridsearch for RFC\n",
    "\n",
    "rfc_params={\n",
    "    'n_estimators':[5,10,15,20],\n",
    "    'criterion':['gini','entropy'],\n",
    "    'max_depth':[1,2,3,4,None]}\n",
    "\n",
    "rfc_gridsearch = GridSearchCV(RandomForestClassifier(), rfc_params, verbose=1, cv=5)\n",
    "rfc_gridsearch.fit(X_train,y_train)\n",
    "\n",
    "print('GridSearch score:',rfc_gridsearch.best_score_)\n",
    "print('Best Parameters:', rfc_gridsearch.best_params_)"
   ]
  },
  {
   "cell_type": "code",
   "execution_count": 75,
   "metadata": {
    "collapsed": true
   },
   "outputs": [],
   "source": [
    "# getting our predicted y values\n",
    "y_preds = rfc_reddit.predict(X_test)"
   ]
  },
  {
   "cell_type": "code",
   "execution_count": 76,
   "metadata": {
    "scrolled": true
   },
   "outputs": [
    {
     "data": {
      "text/html": [
       "<div>\n",
       "<style>\n",
       "    .dataframe thead tr:only-child th {\n",
       "        text-align: right;\n",
       "    }\n",
       "\n",
       "    .dataframe thead th {\n",
       "        text-align: left;\n",
       "    }\n",
       "\n",
       "    .dataframe tbody tr th {\n",
       "        vertical-align: top;\n",
       "    }\n",
       "</style>\n",
       "<table border=\"1\" class=\"dataframe\">\n",
       "  <thead>\n",
       "    <tr style=\"text-align: right;\">\n",
       "      <th></th>\n",
       "      <th>feature_importance</th>\n",
       "      <th>subreddit</th>\n",
       "    </tr>\n",
       "  </thead>\n",
       "  <tbody>\n",
       "    <tr>\n",
       "      <th>20</th>\n",
       "      <td>0.024499</td>\n",
       "      <td>r/facepalm</td>\n",
       "    </tr>\n",
       "    <tr>\n",
       "      <th>407</th>\n",
       "      <td>0.019854</td>\n",
       "      <td>r/webcomics</td>\n",
       "    </tr>\n",
       "    <tr>\n",
       "      <th>333</th>\n",
       "      <td>0.014714</td>\n",
       "      <td>r/memes</td>\n",
       "    </tr>\n",
       "    <tr>\n",
       "      <th>58</th>\n",
       "      <td>0.012521</td>\n",
       "      <td>r/Whatcouldgowrong</td>\n",
       "    </tr>\n",
       "    <tr>\n",
       "      <th>339</th>\n",
       "      <td>0.010271</td>\n",
       "      <td>r/NotMyJob</td>\n",
       "    </tr>\n",
       "    <tr>\n",
       "      <th>303</th>\n",
       "      <td>0.009864</td>\n",
       "      <td>r/eagles</td>\n",
       "    </tr>\n",
       "    <tr>\n",
       "      <th>139</th>\n",
       "      <td>0.009190</td>\n",
       "      <td>r/2meirl4meirl</td>\n",
       "    </tr>\n",
       "    <tr>\n",
       "      <th>416</th>\n",
       "      <td>0.009111</td>\n",
       "      <td>r/lego</td>\n",
       "    </tr>\n",
       "    <tr>\n",
       "      <th>79</th>\n",
       "      <td>0.008995</td>\n",
       "      <td>r/The_Mueller</td>\n",
       "    </tr>\n",
       "    <tr>\n",
       "      <th>188</th>\n",
       "      <td>0.008889</td>\n",
       "      <td>r/dadjokes</td>\n",
       "    </tr>\n",
       "  </tbody>\n",
       "</table>\n",
       "</div>"
      ],
      "text/plain": [
       "     feature_importance           subreddit\n",
       "20             0.024499          r/facepalm\n",
       "407            0.019854         r/webcomics\n",
       "333            0.014714             r/memes\n",
       "58             0.012521  r/Whatcouldgowrong\n",
       "339            0.010271          r/NotMyJob\n",
       "303            0.009864            r/eagles\n",
       "139            0.009190      r/2meirl4meirl\n",
       "416            0.009111              r/lego\n",
       "79             0.008995       r/The_Mueller\n",
       "188            0.008889          r/dadjokes"
      ]
     },
     "execution_count": 76,
     "metadata": {},
     "output_type": "execute_result"
    }
   ],
   "source": [
    "subred_coef_df = pd.DataFrame(list(zip(rfc_reddit.feature_importances_, reddit_df['subreddit'])),\n",
    "             columns=['feature_importance','subreddit']).sort_values(by='feature_importance', ascending=False)\n",
    "\n",
    "subred_coef_df.head(10)"
   ]
  },
  {
   "cell_type": "code",
   "execution_count": 138,
   "metadata": {},
   "outputs": [
    {
     "data": {
      "image/png": "[encoded data removed]",
      "text/plain": [
       "<matplotlib.figure.Figure at 0x115060dd8>"
      ]
     },
     "metadata": {},
     "output_type": "display_data"
    }
   ],
   "source": [
    "sns.barplot(subred_coef_df['feature_importance'],subred_coef_df['subreddit'].head(10), palette='husl');"
   ]
  },
  {
   "cell_type": "code",
   "execution_count": 78,
   "metadata": {},
   "outputs": [
    {
     "data": {
      "text/html": [
       "<div>\n",
       "<style>\n",
       "    .dataframe thead tr:only-child th {\n",
       "        text-align: right;\n",
       "    }\n",
       "\n",
       "    .dataframe thead th {\n",
       "        text-align: left;\n",
       "    }\n",
       "\n",
       "    .dataframe tbody tr th {\n",
       "        vertical-align: top;\n",
       "    }\n",
       "</style>\n",
       "<table border=\"1\" class=\"dataframe\">\n",
       "  <thead>\n",
       "    <tr style=\"text-align: right;\">\n",
       "      <th>Predicted</th>\n",
       "      <th>0</th>\n",
       "      <th>1</th>\n",
       "      <th>All</th>\n",
       "    </tr>\n",
       "    <tr>\n",
       "      <th>Actual</th>\n",
       "      <th></th>\n",
       "      <th></th>\n",
       "      <th></th>\n",
       "    </tr>\n",
       "  </thead>\n",
       "  <tbody>\n",
       "    <tr>\n",
       "      <th>0</th>\n",
       "      <td>88</td>\n",
       "      <td>4</td>\n",
       "      <td>92</td>\n",
       "    </tr>\n",
       "    <tr>\n",
       "      <th>1</th>\n",
       "      <td>70</td>\n",
       "      <td>26</td>\n",
       "      <td>96</td>\n",
       "    </tr>\n",
       "    <tr>\n",
       "      <th>All</th>\n",
       "      <td>158</td>\n",
       "      <td>30</td>\n",
       "      <td>188</td>\n",
       "    </tr>\n",
       "  </tbody>\n",
       "</table>\n",
       "</div>"
      ],
      "text/plain": [
       "Predicted    0   1  All\n",
       "Actual                 \n",
       "0           88   4   92\n",
       "1           70  26   96\n",
       "All        158  30  188"
      ]
     },
     "execution_count": 78,
     "metadata": {},
     "output_type": "execute_result"
    }
   ],
   "source": [
    "rfc_df_confusion = pd.crosstab(y_test, y_preds, rownames=['Actual'], colnames=['Predicted'], margins=True)\n",
    "rfc_df_confusion"
   ]
  },
  {
   "cell_type": "code",
   "execution_count": 96,
   "metadata": {},
   "outputs": [
    {
     "name": "stdout",
     "output_type": "stream",
     "text": [
      "Accuracy - Overall, how often is the classifier correct?\n",
      "0.61\n"
     ]
    }
   ],
   "source": [
    "print('Accuracy - Overall, how often is the classifier correct?')\n",
    "print(round((88+26)/188,2))"
   ]
  },
  {
   "cell_type": "code",
   "execution_count": 80,
   "metadata": {},
   "outputs": [
    {
     "name": "stdout",
     "output_type": "stream",
     "text": [
      "Misclassification Rate - Overall, how often is it wrong?\n",
      "0.39\n"
     ]
    }
   ],
   "source": [
    "print('Misclassification Rate - Overall, how often is it wrong?')\n",
    "print(round((4+70)/188,2))"
   ]
  },
  {
   "cell_type": "code",
   "execution_count": 86,
   "metadata": {},
   "outputs": [
    {
     "name": "stdout",
     "output_type": "stream",
     "text": [
      "True Positive Rate - When it's actually yes, how often does it predict yes?\n",
      "0.27\n"
     ]
    }
   ],
   "source": [
    "print('True Positive Rate - When it\\'s actually yes, how often does it predict yes?')\n",
    "print(round(26/96,2))"
   ]
  },
  {
   "cell_type": "code",
   "execution_count": 83,
   "metadata": {},
   "outputs": [
    {
     "name": "stdout",
     "output_type": "stream",
     "text": [
      "False Positive Rate - When it's actually no, how often does it predict yes?\n",
      "0.04\n"
     ]
    }
   ],
   "source": [
    "print('False Positive Rate - When it\\'s actually no, how often does it predict yes?')\n",
    "print(round(4/96,2))"
   ]
  },
  {
   "cell_type": "code",
   "execution_count": 84,
   "metadata": {},
   "outputs": [
    {
     "name": "stdout",
     "output_type": "stream",
     "text": [
      "Specificity - When it's actually no, how often does it predict no?\n",
      "0.96\n"
     ]
    }
   ],
   "source": [
    "print('Specificity - When it\\'s actually no, how often does it predict no?')\n",
    "print(round(88/92,2))"
   ]
  },
  {
   "cell_type": "code",
   "execution_count": 85,
   "metadata": {},
   "outputs": [
    {
     "name": "stdout",
     "output_type": "stream",
     "text": [
      "Precision - When it predicts yes, how often is it correct?\n",
      "0.87\n"
     ]
    }
   ],
   "source": [
    "print('Precision - When it predicts yes, how often is it correct?')\n",
    "print(round(26/30,2))"
   ]
  },
  {
   "cell_type": "markdown",
   "metadata": {},
   "source": [
    "## RFC - Using Subreddit to Predict High Comment Posts.\n",
    "    \n",
    "The RFC model was more accurate than our Baseline by roughly 10%. The model leaned heavily toward negative predictions resulting in a high false negative value. That being said, it had a faily high value for Specificity and Precision.\n",
    "\n",
    "/rFacepalm was the most influential feature in the model with coefficient of 0.0245. "
   ]
  },
  {
   "cell_type": "markdown",
   "metadata": {
    "focus": false,
    "id": "0ef04f32-419c-4bf2-baf7-48201f03df89"
   },
   "source": [
    "#### Create a few new variables in your dataframe to represent interesting features of a thread title.\n",
    "- For example, create a feature that represents whether 'cat' is in the title or whether 'funny' is in the title. \n",
    "- Then build a new Random Forest with these features. Do they add any value?\n",
    "- After creating these variables, use count-vectorizer to create features based on the words in the thread titles.\n",
    "- Build a new random forest model with subreddit and these new features included."
   ]
  },
  {
   "cell_type": "code",
   "execution_count": 88,
   "metadata": {
    "collapsed": true
   },
   "outputs": [],
   "source": [
    "# creating a new feature if the title contains the word cat\n",
    "cat_bool = reddit_df.title.str.contains('cat')\n",
    "cat=[]\n",
    "for each in cat_bool:\n",
    "    if each == True:\n",
    "        cat.append(1)\n",
    "    else:\n",
    "        cat.append(0)\n",
    "        \n",
    "reddit_df['has_cat'] = cat"
   ]
  },
  {
   "cell_type": "code",
   "execution_count": 91,
   "metadata": {},
   "outputs": [
    {
     "name": "stderr",
     "output_type": "stream",
     "text": [
      "/Users/reef/anaconda3/lib/python3.6/site-packages/ipykernel_launcher.py:3: FutureWarning: reshape is deprecated and will raise in a subsequent release. Please use .values.reshape(...) instead\n",
      "  This is separate from the ipykernel package so we can avoid doing imports until\n"
     ]
    }
   ],
   "source": [
    "# Setting our X and y and train/test split\n",
    "y = reddit_df['high_com']\n",
    "X = reddit_df['has_cat'].reshape(-1,1)\n",
    "\n",
    "X_train, X_test, y_train, y_test = train_test_split(X,y, test_size=0.3)"
   ]
  },
  {
   "cell_type": "code",
   "execution_count": 92,
   "metadata": {},
   "outputs": [
    {
     "name": "stdout",
     "output_type": "stream",
     "text": [
      "Baseline: 0.5031948881789138\n",
      "Random Forrest Score: 0.44680851063829785\n",
      "Cross Validation Score: 0.5691505270452639\n"
     ]
    },
    {
     "name": "stderr",
     "output_type": "stream",
     "text": [
      "[Parallel(n_jobs=1)]: Done   5 out of   5 | elapsed:    0.1s finished\n"
     ]
    }
   ],
   "source": [
    "cat_rfc = RandomForestClassifier()\n",
    "cat_rfc.fit(X_train,y_train)\n",
    "\n",
    "score_cat = cat_rfc.score(X_test,y_test)\n",
    "\n",
    "# using crossvalidation to check how accurate the model is\n",
    "cv_cat = cross_val_score(cat_rfc, X_test, y_test, cv=5, verbose=1).mean()\n",
    "\n",
    "print('Baseline:', baseline_accuracy)\n",
    "print('Random Forrest Score:', score_cat)\n",
    "print('Cross Validation Score:', cv_cat)"
   ]
  },
  {
   "cell_type": "code",
   "execution_count": 93,
   "metadata": {
    "collapsed": true
   },
   "outputs": [],
   "source": [
    "y_preds = cat_rfc.predict(X_test)"
   ]
  },
  {
   "cell_type": "markdown",
   "metadata": {
    "focus": false,
    "id": "9367beff-72ba-4768-a0ba-a50b335de61d"
   },
   "source": [
    "#### Use cross-validation in scikit-learn to evaluate the model above. \n",
    "- Evaluate the accuracy of the model, as well as any other metrics you feel are appropriate. "
   ]
  },
  {
   "cell_type": "code",
   "execution_count": 94,
   "metadata": {
    "focus": false,
    "id": "269b9e7c-60b5-4a06-8255-881d7395bc1b",
    "scrolled": false
   },
   "outputs": [
    {
     "data": {
      "text/html": [
       "<div>\n",
       "<style>\n",
       "    .dataframe thead tr:only-child th {\n",
       "        text-align: right;\n",
       "    }\n",
       "\n",
       "    .dataframe thead th {\n",
       "        text-align: left;\n",
       "    }\n",
       "\n",
       "    .dataframe tbody tr th {\n",
       "        vertical-align: top;\n",
       "    }\n",
       "</style>\n",
       "<table border=\"1\" class=\"dataframe\">\n",
       "  <thead>\n",
       "    <tr style=\"text-align: right;\">\n",
       "      <th>Predicted</th>\n",
       "      <th>0</th>\n",
       "      <th>1</th>\n",
       "      <th>All</th>\n",
       "    </tr>\n",
       "    <tr>\n",
       "      <th>Actual</th>\n",
       "      <th></th>\n",
       "      <th></th>\n",
       "      <th></th>\n",
       "    </tr>\n",
       "  </thead>\n",
       "  <tbody>\n",
       "    <tr>\n",
       "      <th>0</th>\n",
       "      <td>3</td>\n",
       "      <td>104</td>\n",
       "      <td>107</td>\n",
       "    </tr>\n",
       "    <tr>\n",
       "      <th>1</th>\n",
       "      <td>0</td>\n",
       "      <td>81</td>\n",
       "      <td>81</td>\n",
       "    </tr>\n",
       "    <tr>\n",
       "      <th>All</th>\n",
       "      <td>3</td>\n",
       "      <td>185</td>\n",
       "      <td>188</td>\n",
       "    </tr>\n",
       "  </tbody>\n",
       "</table>\n",
       "</div>"
      ],
      "text/plain": [
       "Predicted  0    1  All\n",
       "Actual                \n",
       "0          3  104  107\n",
       "1          0   81   81\n",
       "All        3  185  188"
      ]
     },
     "execution_count": 94,
     "metadata": {},
     "output_type": "execute_result"
    }
   ],
   "source": [
    "cat_confusion = pd.crosstab(y_test, y_preds, rownames=['Actual'], colnames=['Predicted'], margins=True)\n",
    "cat_confusion"
   ]
  },
  {
   "cell_type": "code",
   "execution_count": 98,
   "metadata": {},
   "outputs": [
    {
     "name": "stdout",
     "output_type": "stream",
     "text": [
      "Accuracy - Overall, how often is the classifier correct?\n",
      "0.45\n"
     ]
    }
   ],
   "source": [
    "print('Accuracy - Overall, how often is the classifier correct?')\n",
    "print(round((3+81)/188,2))"
   ]
  },
  {
   "cell_type": "code",
   "execution_count": 99,
   "metadata": {},
   "outputs": [
    {
     "name": "stdout",
     "output_type": "stream",
     "text": [
      "Misclassification Rate - Overall, how often is it wrong?\n",
      "0.55\n"
     ]
    }
   ],
   "source": [
    "print('Misclassification Rate - Overall, how often is it wrong?')\n",
    "print(round((0+104)/188,2))"
   ]
  },
  {
   "cell_type": "code",
   "execution_count": 100,
   "metadata": {},
   "outputs": [
    {
     "name": "stdout",
     "output_type": "stream",
     "text": [
      "True Positive Rate - When it's actually yes, how often does it predict yes?\n",
      "1.0\n"
     ]
    }
   ],
   "source": [
    "print('True Positive Rate - When it\\'s actually yes, how often does it predict yes?')\n",
    "print(round(81/81,2))"
   ]
  },
  {
   "cell_type": "code",
   "execution_count": 101,
   "metadata": {},
   "outputs": [
    {
     "name": "stdout",
     "output_type": "stream",
     "text": [
      "False Positive Rate - When it's actually no, how often does it predict yes?\n",
      "0.97\n"
     ]
    }
   ],
   "source": [
    "print('False Positive Rate - When it\\'s actually no, how often does it predict yes?')\n",
    "print(round(104/107,2))"
   ]
  },
  {
   "cell_type": "code",
   "execution_count": 102,
   "metadata": {},
   "outputs": [
    {
     "name": "stdout",
     "output_type": "stream",
     "text": [
      "Specificity - When it's actually no, how often does it predict no?\n",
      "0.03\n"
     ]
    }
   ],
   "source": [
    "print('Specificity - When it\\'s actually no, how often does it predict no?')\n",
    "print(round(3/107,2))"
   ]
  },
  {
   "cell_type": "code",
   "execution_count": 103,
   "metadata": {},
   "outputs": [
    {
     "name": "stdout",
     "output_type": "stream",
     "text": [
      "Precision - When it predicts yes, how often is it correct?\n",
      "0.44\n"
     ]
    }
   ],
   "source": [
    "print('Precision - When it predicts yes, how often is it correct?')\n",
    "print(round(81/185,2))"
   ]
  },
  {
   "cell_type": "markdown",
   "metadata": {},
   "source": [
    "#### RFC - Predicting high comment posts using \"cat\" in the title as a variable.\n",
    "\n",
    "This model was 5% less accurate than our baseline model. This model pretty much predicted every post to have a high comments. This resulted in a 100% true positive rate and a 97% false positive rate. Having cat in the title was not a good variable to use in a random forest model."
   ]
  },
  {
   "cell_type": "markdown",
   "metadata": {},
   "source": [
    "### Repeat the model-building process with a non-tree-based method."
   ]
  },
  {
   "cell_type": "code",
   "execution_count": 107,
   "metadata": {},
   "outputs": [
    {
     "name": "stdout",
     "output_type": "stream",
     "text": [
      "Fitting 5 folds for each of 24 candidates, totalling 120 fits\n",
      "0.5159817351598174\n",
      "{'n_neighbors': 9, 'p': 1, 'weights': 'distance'}\n"
     ]
    },
    {
     "name": "stderr",
     "output_type": "stream",
     "text": [
      "[Parallel(n_jobs=4)]: Done 120 out of 120 | elapsed:    0.2s finished\n"
     ]
    }
   ],
   "source": [
    "# GridSearching the best parameters for KNeighbors model\n",
    "knn_parameters = {\n",
    "    'n_neighbors':[1,3,5,9,15,21],\n",
    "    'weights':['uniform','distance'],\n",
    "    'p':[1,2]\n",
    "}\n",
    "\n",
    "knn_gridsearcher = GridSearchCV(KNeighborsClassifier(), knn_parameters, verbose=1, cv=5, n_jobs=4)\n",
    "knn_gridsearcher.fit(X_train, y_train)\n",
    "\n",
    "print(knn_gridsearcher.best_score_)\n",
    "print(knn_gridsearcher.best_params_)"
   ]
  },
  {
   "cell_type": "code",
   "execution_count": 109,
   "metadata": {},
   "outputs": [
    {
     "name": "stdout",
     "output_type": "stream",
     "text": [
      "Baseline: 0.5031948881789138\n",
      "KNN Score: 0.44680851063829785\n"
     ]
    }
   ],
   "source": [
    "# Building a KNN model using the best params we found through grid searching\n",
    "cat_knn = KNeighborsClassifier(n_neighbors=9, p=1, weights='distance')\n",
    "cat_knn.fit(X_train, y_train)\n",
    "score_knn = cat_knn.score(X_test, y_test)\n",
    "\n",
    "print('Baseline:', baseline_accuracy)\n",
    "print('KNN Score:', score_knn)"
   ]
  },
  {
   "cell_type": "code",
   "execution_count": 110,
   "metadata": {
    "collapsed": true
   },
   "outputs": [],
   "source": [
    "y_preds = cat_knn.predict(X_test)"
   ]
  },
  {
   "cell_type": "code",
   "execution_count": 111,
   "metadata": {},
   "outputs": [
    {
     "data": {
      "text/html": [
       "<div>\n",
       "<style>\n",
       "    .dataframe thead tr:only-child th {\n",
       "        text-align: right;\n",
       "    }\n",
       "\n",
       "    .dataframe thead th {\n",
       "        text-align: left;\n",
       "    }\n",
       "\n",
       "    .dataframe tbody tr th {\n",
       "        vertical-align: top;\n",
       "    }\n",
       "</style>\n",
       "<table border=\"1\" class=\"dataframe\">\n",
       "  <thead>\n",
       "    <tr style=\"text-align: right;\">\n",
       "      <th>Predicted</th>\n",
       "      <th>0</th>\n",
       "      <th>1</th>\n",
       "      <th>All</th>\n",
       "    </tr>\n",
       "    <tr>\n",
       "      <th>Actual</th>\n",
       "      <th></th>\n",
       "      <th></th>\n",
       "      <th></th>\n",
       "    </tr>\n",
       "  </thead>\n",
       "  <tbody>\n",
       "    <tr>\n",
       "      <th>0</th>\n",
       "      <td>3</td>\n",
       "      <td>104</td>\n",
       "      <td>107</td>\n",
       "    </tr>\n",
       "    <tr>\n",
       "      <th>1</th>\n",
       "      <td>0</td>\n",
       "      <td>81</td>\n",
       "      <td>81</td>\n",
       "    </tr>\n",
       "    <tr>\n",
       "      <th>All</th>\n",
       "      <td>3</td>\n",
       "      <td>185</td>\n",
       "      <td>188</td>\n",
       "    </tr>\n",
       "  </tbody>\n",
       "</table>\n",
       "</div>"
      ],
      "text/plain": [
       "Predicted  0    1  All\n",
       "Actual                \n",
       "0          3  104  107\n",
       "1          0   81   81\n",
       "All        3  185  188"
      ]
     },
     "execution_count": 111,
     "metadata": {},
     "output_type": "execute_result"
    }
   ],
   "source": [
    "cat_confusion = pd.crosstab(y_test, y_preds, rownames=['Actual'], colnames=['Predicted'], margins=True)\n",
    "cat_confusion"
   ]
  },
  {
   "cell_type": "code",
   "execution_count": 112,
   "metadata": {},
   "outputs": [
    {
     "name": "stdout",
     "output_type": "stream",
     "text": [
      "Accuracy - Overall, how often is the classifier correct?\n",
      "0.45\n"
     ]
    }
   ],
   "source": [
    "print('Accuracy - Overall, how often is the classifier correct?')\n",
    "print(round((3+81)/188,2))"
   ]
  },
  {
   "cell_type": "code",
   "execution_count": 114,
   "metadata": {},
   "outputs": [
    {
     "name": "stdout",
     "output_type": "stream",
     "text": [
      "Misclassification Rate - Overall, how often is it wrong?\n",
      "0.55\n"
     ]
    }
   ],
   "source": [
    "print('Misclassification Rate - Overall, how often is it wrong?')\n",
    "print(round((0+104)/188,2))"
   ]
  },
  {
   "cell_type": "code",
   "execution_count": 115,
   "metadata": {},
   "outputs": [
    {
     "name": "stdout",
     "output_type": "stream",
     "text": [
      "True Positive Rate - When it's actually yes, how often does it predict yes?\n",
      "1.0\n"
     ]
    }
   ],
   "source": [
    "print('True Positive Rate - When it\\'s actually yes, how often does it predict yes?')\n",
    "print(round(81/81,2))"
   ]
  },
  {
   "cell_type": "code",
   "execution_count": 116,
   "metadata": {},
   "outputs": [
    {
     "name": "stdout",
     "output_type": "stream",
     "text": [
      "False Positive Rate - When it's actually no, how often does it predict yes?\n",
      "0.97\n"
     ]
    }
   ],
   "source": [
    "print('False Positive Rate - When it\\'s actually no, how often does it predict yes?')\n",
    "print(round(104/107,2))"
   ]
  },
  {
   "cell_type": "code",
   "execution_count": 117,
   "metadata": {},
   "outputs": [
    {
     "name": "stdout",
     "output_type": "stream",
     "text": [
      "Specificity - When it's actually no, how often does it predict no?\n",
      "0.03\n"
     ]
    }
   ],
   "source": [
    "print('Specificity - When it\\'s actually no, how often does it predict no?')\n",
    "print(round(3/107,2))"
   ]
  },
  {
   "cell_type": "code",
   "execution_count": 118,
   "metadata": {},
   "outputs": [
    {
     "name": "stdout",
     "output_type": "stream",
     "text": [
      "Precision - When it predicts yes, how often is it correct?\n",
      "0.44\n"
     ]
    }
   ],
   "source": [
    "print('Precision - When it predicts yes, how often is it correct?')\n",
    "print(round(81/185,2))"
   ]
  },
  {
   "cell_type": "markdown",
   "metadata": {},
   "source": [
    "#### KNN - Predicting high comment posts using \"cat\" in the title as a variable.\n",
    "\n",
    "This model had the exact same outcome as the random forest classifier. "
   ]
  },
  {
   "cell_type": "markdown",
   "metadata": {
    "focus": false,
    "id": "db045898-1d2d-4af2-8e79-437c4c7546b4"
   },
   "source": [
    "### Use Count Vectorizer from scikit-learn to create features from the thread titles. \n",
    "- Examine using count or binary features in the model\n",
    "- Re-evaluate your models using these. Does this improve the model performance? \n",
    "- What text features are the most valuable? "
   ]
  },
  {
   "cell_type": "code",
   "execution_count": 119,
   "metadata": {
    "collapsed": true
   },
   "outputs": [],
   "source": [
    "## Count Vectorizing the words in reddit post titles\n",
    "X = reddit_df['title']\n",
    "y = reddit_df['high_com']\n",
    "\n",
    "X_train, X_test, y_train, y_test = train_test_split(X,y)\n",
    "\n",
    "cv = CountVectorizer(stop_words='english')\n",
    "cv.fit(X_train)\n",
    "\n",
    "Xs_train = pd.DataFrame(cv.transform(X_train).todense(), columns=cv.get_feature_names())\n",
    "Xs_test = pd.DataFrame(cv.transform(X_test).todense(), columns=cv.get_feature_names())"
   ]
  },
  {
   "cell_type": "code",
   "execution_count": 120,
   "metadata": {},
   "outputs": [
    {
     "name": "stdout",
     "output_type": "stream",
     "text": [
      "Baseline: 0.5031948881789138\n",
      "Random Forrest Score: 0.5605095541401274\n",
      "Cross Validation Score: 0.4657258064516129\n"
     ]
    }
   ],
   "source": [
    "# Fitting a RFC on the CV titles\n",
    "rfc = RandomForestClassifier()\n",
    "rfc.fit(Xs_train, y_train)\n",
    "score = rfc.score(Xs_test, y_test)\n",
    "cvs = cross_val_score(rfc, Xs_test, y_test, cv=5).mean()\n",
    "\n",
    "print('Baseline:', baseline_accuracy)\n",
    "print('Random Forrest Score:', score)\n",
    "print('Cross Validation Score:', cvs)"
   ]
  },
  {
   "cell_type": "code",
   "execution_count": 121,
   "metadata": {
    "collapsed": true
   },
   "outputs": [],
   "source": [
    "y_preds = rfc.predict(Xs_test)"
   ]
  },
  {
   "cell_type": "code",
   "execution_count": 139,
   "metadata": {},
   "outputs": [
    {
     "data": {
      "text/html": [
       "<div>\n",
       "<style>\n",
       "    .dataframe thead tr:only-child th {\n",
       "        text-align: right;\n",
       "    }\n",
       "\n",
       "    .dataframe thead th {\n",
       "        text-align: left;\n",
       "    }\n",
       "\n",
       "    .dataframe tbody tr th {\n",
       "        vertical-align: top;\n",
       "    }\n",
       "</style>\n",
       "<table border=\"1\" class=\"dataframe\">\n",
       "  <thead>\n",
       "    <tr style=\"text-align: right;\">\n",
       "      <th></th>\n",
       "      <th>feature_importance</th>\n",
       "      <th>title_word</th>\n",
       "    </tr>\n",
       "  </thead>\n",
       "  <tbody>\n",
       "    <tr>\n",
       "      <th>1159</th>\n",
       "      <td>0.011246</td>\n",
       "      <td>money</td>\n",
       "    </tr>\n",
       "    <tr>\n",
       "      <th>871</th>\n",
       "      <td>0.009570</td>\n",
       "      <td>hmmm</td>\n",
       "    </tr>\n",
       "    <tr>\n",
       "      <th>1906</th>\n",
       "      <td>0.009367</td>\n",
       "      <td>way</td>\n",
       "    </tr>\n",
       "    <tr>\n",
       "      <th>1031</th>\n",
       "      <td>0.008968</td>\n",
       "      <td>like</td>\n",
       "    </tr>\n",
       "    <tr>\n",
       "      <th>1227</th>\n",
       "      <td>0.006283</td>\n",
       "      <td>oc</td>\n",
       "    </tr>\n",
       "    <tr>\n",
       "      <th>131</th>\n",
       "      <td>0.005784</td>\n",
       "      <td>anime_irl</td>\n",
       "    </tr>\n",
       "    <tr>\n",
       "      <th>1789</th>\n",
       "      <td>0.005711</td>\n",
       "      <td>time</td>\n",
       "    </tr>\n",
       "    <tr>\n",
       "      <th>213</th>\n",
       "      <td>0.005637</td>\n",
       "      <td>believe</td>\n",
       "    </tr>\n",
       "    <tr>\n",
       "      <th>1661</th>\n",
       "      <td>0.005546</td>\n",
       "      <td>status</td>\n",
       "    </tr>\n",
       "    <tr>\n",
       "      <th>202</th>\n",
       "      <td>0.005040</td>\n",
       "      <td>beard</td>\n",
       "    </tr>\n",
       "  </tbody>\n",
       "</table>\n",
       "</div>"
      ],
      "text/plain": [
       "      feature_importance title_word\n",
       "1159            0.011246      money\n",
       "871             0.009570       hmmm\n",
       "1906            0.009367        way\n",
       "1031            0.008968       like\n",
       "1227            0.006283         oc\n",
       "131             0.005784  anime_irl\n",
       "1789            0.005711       time\n",
       "213             0.005637    believe\n",
       "1661            0.005546     status\n",
       "202             0.005040      beard"
      ]
     },
     "execution_count": 139,
     "metadata": {},
     "output_type": "execute_result"
    }
   ],
   "source": [
    "\n",
    "title_coef_df = pd.DataFrame(list(zip(rfc.feature_importances_, Xs_test)),\n",
    "             columns=['feature_importance','title_word']).sort_values(by='feature_importance', ascending=False)\n",
    "\n",
    "title_coef_df.head(10)"
   ]
  },
  {
   "cell_type": "code",
   "execution_count": 140,
   "metadata": {},
   "outputs": [
    {
     "data": {
      "image/png": "[encoded data removed]",
      "text/plain": [
       "<matplotlib.figure.Figure at 0x113e83208>"
      ]
     },
     "metadata": {},
     "output_type": "display_data"
    }
   ],
   "source": [
    "sns.barplot(title_coef_df['feature_importance'],title_coef_df['title_word'].head(10), palette='husl');"
   ]
  },
  {
   "cell_type": "code",
   "execution_count": 126,
   "metadata": {},
   "outputs": [
    {
     "data": {
      "text/html": [
       "<div>\n",
       "<style>\n",
       "    .dataframe thead tr:only-child th {\n",
       "        text-align: right;\n",
       "    }\n",
       "\n",
       "    .dataframe thead th {\n",
       "        text-align: left;\n",
       "    }\n",
       "\n",
       "    .dataframe tbody tr th {\n",
       "        vertical-align: top;\n",
       "    }\n",
       "</style>\n",
       "<table border=\"1\" class=\"dataframe\">\n",
       "  <thead>\n",
       "    <tr style=\"text-align: right;\">\n",
       "      <th>Predicted</th>\n",
       "      <th>0</th>\n",
       "      <th>1</th>\n",
       "      <th>All</th>\n",
       "    </tr>\n",
       "    <tr>\n",
       "      <th>Actual</th>\n",
       "      <th></th>\n",
       "      <th></th>\n",
       "      <th></th>\n",
       "    </tr>\n",
       "  </thead>\n",
       "  <tbody>\n",
       "    <tr>\n",
       "      <th>0</th>\n",
       "      <td>69</td>\n",
       "      <td>9</td>\n",
       "      <td>78</td>\n",
       "    </tr>\n",
       "    <tr>\n",
       "      <th>1</th>\n",
       "      <td>60</td>\n",
       "      <td>19</td>\n",
       "      <td>79</td>\n",
       "    </tr>\n",
       "    <tr>\n",
       "      <th>All</th>\n",
       "      <td>129</td>\n",
       "      <td>28</td>\n",
       "      <td>157</td>\n",
       "    </tr>\n",
       "  </tbody>\n",
       "</table>\n",
       "</div>"
      ],
      "text/plain": [
       "Predicted    0   1  All\n",
       "Actual                 \n",
       "0           69   9   78\n",
       "1           60  19   79\n",
       "All        129  28  157"
      ]
     },
     "execution_count": 126,
     "metadata": {},
     "output_type": "execute_result"
    }
   ],
   "source": [
    "cv_confusion = pd.crosstab(y_test, y_preds, rownames=['Actual'], colnames=['Predicted'], margins=True)\n",
    "cv_confusion"
   ]
  },
  {
   "cell_type": "code",
   "execution_count": 127,
   "metadata": {},
   "outputs": [
    {
     "name": "stdout",
     "output_type": "stream",
     "text": [
      "Accuracy - Overall, how often is the classifier correct?\n",
      "0.56\n"
     ]
    }
   ],
   "source": [
    "print('Accuracy - Overall, how often is the classifier correct?')\n",
    "print(round((69+19)/157,2))"
   ]
  },
  {
   "cell_type": "code",
   "execution_count": 128,
   "metadata": {},
   "outputs": [
    {
     "name": "stdout",
     "output_type": "stream",
     "text": [
      "Misclassification Rate - Overall, how often is it wrong?\n",
      "0.38\n"
     ]
    }
   ],
   "source": [
    "print('Misclassification Rate - Overall, how often is it wrong?')\n",
    "print(round((0+60)/157,2))"
   ]
  },
  {
   "cell_type": "code",
   "execution_count": 129,
   "metadata": {},
   "outputs": [
    {
     "name": "stdout",
     "output_type": "stream",
     "text": [
      "True Positive Rate - When it's actually yes, how often does it predict yes?\n",
      "0.24\n"
     ]
    }
   ],
   "source": [
    "print('True Positive Rate - When it\\'s actually yes, how often does it predict yes?')\n",
    "print(round(19/79,2))"
   ]
  },
  {
   "cell_type": "code",
   "execution_count": 131,
   "metadata": {},
   "outputs": [
    {
     "name": "stdout",
     "output_type": "stream",
     "text": [
      "False Positive Rate - When it's actually no, how often does it predict yes?\n",
      "0.12\n"
     ]
    }
   ],
   "source": [
    "print('False Positive Rate - When it\\'s actually no, how often does it predict yes?')\n",
    "print(round(9/78,2))"
   ]
  },
  {
   "cell_type": "code",
   "execution_count": 132,
   "metadata": {},
   "outputs": [
    {
     "name": "stdout",
     "output_type": "stream",
     "text": [
      "Specificity - When it's actually no, how often does it predict no?\n",
      "0.88\n"
     ]
    }
   ],
   "source": [
    "print('Specificity - When it\\'s actually no, how often does it predict no?')\n",
    "print(round(69/78,2))"
   ]
  },
  {
   "cell_type": "code",
   "execution_count": 133,
   "metadata": {
    "scrolled": true
   },
   "outputs": [
    {
     "name": "stdout",
     "output_type": "stream",
     "text": [
      "Precision - When it predicts yes, how often is it correct?\n",
      "0.24\n"
     ]
    }
   ],
   "source": [
    "print('Precision - When it predicts yes, how often is it correct?')\n",
    "print(round(19/79,2))"
   ]
  },
  {
   "cell_type": "markdown",
   "metadata": {},
   "source": [
    "#### CV RFC - Using words in the post titles as variables to predict high coment posts.\n",
    "\n",
    "This model was 6% more accurate than our baseline. It leaned very heavily toward negative predictions resulting in high false negatives. \n",
    "\n",
    "The term \"money\" had the most feature importance at 0.0112."
   ]
  },
  {
   "cell_type": "markdown",
   "metadata": {},
   "source": [
    "# Executive Summary\n",
    "---\n",
    "Put your executive summary in a Markdown cell below."
   ]
  },
  {
   "cell_type": "markdown",
   "metadata": {},
   "source": [
    "Reddit calls itself \"The Front Page of the Internet\", and there has never been as more appropriate slogan. The website is a mix of news, social commentary, cool links, and pictures of cats. It boasts over 250 million unique users and 542 million monthly users. These users drive posts into the spot light using \"upvotes\" or make them disappear by \"downvoting\" them. It's clear to see why this is a wonderful platform to expose your idea, campaign, or website.\n",
    "\n",
    "But understanding the way posts become popular can be a bit tricky. The website is made up of numerous sub-pages called \"sub-reddits\". There are 853,824 currently and that number is ever growing. This is merely one in many variables that need to be accounted for in order to make sure your product is out there for all to see.\n",
    "\n",
    "Looking at comments on a post give us a clear indication of how popular a post is. Simply put, the more comments the post has, the more popular/controversial the post is. Luckily the website makes it incredibly easy to access the information we need by simply scraping the html elements through a python script. Using the aggregated data, we can build classification models and predict what objects influence a post having a high-comment threshold.\n",
    "\n",
    "Our baseline accuracy was 50.3%. Using a random forest classifier model and setting our independent variable as the subreddit, we were able to produce a model that was 10.3% more accurate. Through this model, we were able to see that /rFacepalm was the most important feature in the model, with a coefficient of 0.0245. "
   ]
  },
  {
   "cell_type": "markdown",
   "metadata": {
    "focus": false,
    "id": "3be94357-e551-4094-b784-2df039216d33"
   },
   "source": [
    "### BONUS\n",
    "Refer to the README for the bonus parts"
   ]
  },
  {
   "cell_type": "code",
   "execution_count": null,
   "metadata": {
    "collapsed": true,
    "focus": false,
    "id": "4239e458-28bd-4675-8db3-c1d9c02b9854"
   },
   "outputs": [],
   "source": [
    "## YOUR CODE HERE"
   ]
  }
 ],
 "metadata": {
  "anaconda-cloud": {},
  "kernelspec": {
   "display_name": "Python 3",
   "language": "python",
   "name": "python3"
  },
  "language_info": {
   "codemirror_mode": {
    "name": "ipython",
    "version": 3
   },
   "file_extension": ".py",
   "mimetype": "text/x-python",
   "name": "python",
   "nbconvert_exporter": "python",
   "pygments_lexer": "ipython3",
   "version": "3.6.3"
  },
  "varInspector": {
   "cols": {
    "lenName": 16,
    "lenType": 16,
    "lenVar": 40
   },
   "kernels_config": {
    "python": {
     "delete_cmd_postfix": "",
     "delete_cmd_prefix": "del ",
     "library": "var_list.py",
     "varRefreshCmd": "print(var_dic_list())"
    },
    "r": {
     "delete_cmd_postfix": ") ",
     "delete_cmd_prefix": "rm(",
     "library": "var_list.r",
     "varRefreshCmd": "cat(var_dic_list()) "
    }
   },
   "types_to_exclude": [
    "module",
    "function",
    "builtin_function_or_method",
    "instance",
    "_Feature"
   ],
   "window_display": false
  }
 },
 "nbformat": 4,
 "nbformat_minor": 1
}
